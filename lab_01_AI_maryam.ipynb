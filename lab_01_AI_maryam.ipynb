{
  "cells": [
    {
      "cell_type": "code",
      "execution_count": null,
      "metadata": {
        "id": "Nxo_EPd7748Y"
      },
      "outputs": [],
      "source": []
    },
    {
      "cell_type": "markdown",
      "metadata": {
        "id": "0Fui69kj77oZ"
      },
      "source": [
        "activity 1: Arithmetic operation"
      ]
    },
    {
      "cell_type": "code",
      "execution_count": null,
      "metadata": {
        "colab": {
          "base_uri": "https://localhost:8080/"
        },
        "id": "Y9T8dysP7Qwz",
        "outputId": "da752a81-5a4c-4347-e038-5e9b9afd9f35"
      },
      "outputs": [
        {
          "name": "stdout",
          "output_type": "stream",
          "text": [
            "4\n",
            "5.0\n",
            "25\n"
          ]
        }
      ],
      "source": [
        " print(1 + 3)\n",
        " print(10 / 2)\n",
        " print(5 ** 2)"
      ]
    },
    {
      "cell_type": "markdown",
      "metadata": {
        "id": "eyWFYhmJ8FGJ"
      },
      "source": [
        "activity 2:String Manipulation\n"
      ]
    },
    {
      "cell_type": "code",
      "execution_count": null,
      "metadata": {
        "colab": {
          "base_uri": "https://localhost:8080/"
        },
        "id": "Lw80PZoY7maK",
        "outputId": "d2cbc226-ef01-401e-875a-0cbdaa47ebbf"
      },
      "outputs": [
        {
          "name": "stdout",
          "output_type": "stream",
          "text": [
            "python basics\n",
            "AI AI AI \n"
          ]
        }
      ],
      "source": [
        "print(\"python\" + \" basics\")\n",
        "print(\"AI \" * 3)"
      ]
    },
    {
      "cell_type": "markdown",
      "metadata": {
        "id": "E3IuUWWa8NxI"
      },
      "source": [
        "activity 3 : Variables and Data Types"
      ]
    },
    {
      "cell_type": "code",
      "execution_count": null,
      "metadata": {
        "colab": {
          "base_uri": "https://localhost:8080/"
        },
        "id": "spbUzeVz7oj4",
        "outputId": "f1f68c79-5b70-46f0-e7d3-43bf5ffeb143"
      },
      "outputs": [
        {
          "name": "stdout",
          "output_type": "stream",
          "text": [
            "apple\n",
            "17\n",
            "<class 'str'> <class 'int'> <class 'float'>\n"
          ]
        }
      ],
      "source": [
        "fruit = \"apple\"\n",
        "print(fruit)\n",
        "fruit = 17\n",
        "print(fruit)\n",
        "x = str(3); y = int(3); z = float(3)\n",
        "print(type(x), type(y), type(z))"
      ]
    },
    {
      "cell_type": "markdown",
      "metadata": {
        "id": "iPXhN1zq8kYI"
      },
      "source": [
        "activity 4: Lists\n"
      ]
    },
    {
      "cell_type": "code",
      "execution_count": null,
      "metadata": {
        "colab": {
          "base_uri": "https://localhost:8080/"
        },
        "id": "a39Bk5RD8eAq",
        "outputId": "524b751d-263b-44e3-8eb8-87209eb476a0"
      },
      "outputs": [
        {
          "name": "stdout",
          "output_type": "stream",
          "text": [
            "First element: apple\n",
            "Last element: 9\n",
            "Sublist from index 1 to 2: [34.5, 'banana']\n",
            "Every second element: ['apple', 'banana']\n",
            "Substring 'app' found in the first element.\n",
            "List after appending 'grape': ['apple', 34.5, 'banana', 9, 'grape']\n",
            "List after removing 'banana': ['apple', 34.5, 9, 'grape']\n",
            "List after updating index 1: ['apple', 99.9, 9, 'grape']\n"
          ]
        }
      ],
      "source": [
        "mylist = [\"apple\", 34.5, \"banana\", 9]\n",
        "mylist = [\"apple\", 34.5, \"banana\", 9]\n",
        "print(\"First element:\", mylist[0])\n",
        "print(\"Last element:\", mylist[-1])\n",
        "print(\"Sublist from index 1 to 2:\", mylist[1:3])\n",
        "print(\"Every second element:\", mylist[::2])\n",
        "if \"app\" in mylist[0]:\n",
        " print(\"Substring 'app' found in the first element.\")\n",
        " mylist.append(\"grape\")\n",
        "print(\"List after appending 'grape':\", mylist)\n",
        "mylist.remove(\"banana\")\n",
        "print(\"List after removing 'banana':\", mylist)\n",
        "mylist[1] = 99.9\n",
        "print(\"List after updating index 1:\", mylist)\n"
      ]
    },
    {
      "cell_type": "markdown",
      "metadata": {
        "id": "of4JWw9r9Pwg"
      },
      "source": [
        "activity 5:Dictionaries\n"
      ]
    },
    {
      "cell_type": "code",
      "execution_count": null,
      "metadata": {
        "colab": {
          "base_uri": "https://localhost:8080/"
        },
        "id": "zXzKRkS19VIx",
        "outputId": "61d9f936-a10f-47ec-fb29-512f09ad8aad"
      },
      "outputs": [
        {
          "name": "stdout",
          "output_type": "stream",
          "text": [
            "Initial dictionary: {'brand': 'Ford', 'model': 'Mustang', 'year': 1964}\n",
            "Model of the car: Mustang\n",
            "After updating 'year': {'brand': 'Ford', 'model': 'Mustang', 'year': 2024}\n",
            "After adding a new key 'color': {'brand': 'Ford', 'model': 'Mustang', 'year': 2024, 'color': 'red'}\n",
            "Removed 'model' key with value: Mustang\n",
            "Dictionary after pop operation: {'brand': 'Ford', 'year': 2024, 'color': 'red'}\n",
            "Removed the last inserted item: ('color', 'red')\n",
            "Dictionary after popitem: {'brand': 'Ford', 'year': 2024}\n",
            "Get 'brand' safely: Ford\n",
            "Get non-existing key safely (returns None): None\n",
            "'brand' key exists in the dictionary.\n",
            "All keys: dict_keys(['brand', 'year'])\n",
            "All values: dict_values(['Ford', 2024])\n",
            "All items (key–value pairs): dict_items([('brand', 'Ford'), ('year', 2024)])\n",
            "Shallow copy of dictionary: {'brand': 'Ford', 'year': 2024}\n",
            "Dictionary after clearing all items: {}\n"
          ]
        }
      ],
      "source": [
        "car = {\"brand\": \"Ford\", \"model\": \"Mustang\", \"year\": 1964}\n",
        "print(\"Initial dictionary:\", car)\n",
        "print(\"Model of the car:\", car[\"model\"])\n",
        "car[\"year\"] = 2024\n",
        "print(\"After updating 'year':\", car)\n",
        "car[\"color\"] = \"red\"\n",
        "print(\"After adding a new key 'color':\", car)\n",
        "removed_value = car.pop(\"model\")\n",
        "print(\"Removed 'model' key with value:\", removed_value)\n",
        "print(\"Dictionary after pop operation:\", car)\n",
        "last_item = car.popitem()\n",
        "print(\"Removed the last inserted item:\", last_item)\n",
        "print(\"Dictionary after popitem:\", car)\n",
        "print(\"Get 'brand' safely:\", car.get(\"brand\"))\n",
        "print(\"Get non-existing key safely (returns None):\", car.get(\"engine\"))\n",
        "if \"brand\" in car:\n",
        " print(\"'brand' key exists in the dictionary.\")\n",
        " print(\"All keys:\", car.keys())\n",
        "print(\"All values:\", car.values())\n",
        "print(\"All items (key–value pairs):\", car.items())\n",
        "car_copy = car.copy()\n",
        "print(\"Shallow copy of dictionary:\", car_copy)\n",
        "car.clear()\n",
        "print(\"Dictionary after clearing all items:\", car)\n"
      ]
    },
    {
      "cell_type": "markdown",
      "metadata": {
        "id": "ZfWO7COX9024"
      },
      "source": [
        "activity 6:  Sets\n"
      ]
    },
    {
      "cell_type": "code",
      "execution_count": null,
      "metadata": {
        "colab": {
          "base_uri": "https://localhost:8080/"
        },
        "id": "p51pq8tm96NJ",
        "outputId": "bec703dd-9705-41aa-a371-12edb77e6951"
      },
      "outputs": [
        {
          "name": "stdout",
          "output_type": "stream",
          "text": [
            "Initial set: {'banana', 'cherry', 'apple'}\n",
            "Mixed-type set: {True, 34, 'abc', 40, 'male'}\n",
            "After adding 'orange': {'banana', 'cherry', 'apple', 'orange'}\n",
            "After adding multiple elements: {'banana', 'grape', 'mango', 'cherry', 'orange', 'apple'}\n",
            "After removing 'banana': {'grape', 'mango', 'cherry', 'orange', 'apple'}\n",
            "After attempting to discard 'papaya' (not present): {'grape', 'mango', 'cherry', 'orange', 'apple'}\n",
            "Removed an arbitrary element: grape\n",
            "Set after pop operation: {'mango', 'cherry', 'orange', 'apple'}\n",
            "Is 'apple' in the set? True\n",
            "Union of thisset and set1: {True, 34, 'abc', 'mango', 40, 'cherry', 'orange', 'apple', 'male'}\n",
            "Intersection of thisset and set1: set()\n",
            "Difference (thisset - set1): {'apple', 'cherry', 'mango', 'orange'}\n",
            "Copy of the set: {'apple', 'cherry', 'mango', 'orange'}\n",
            "Set after clearing all elements: set()\n"
          ]
        }
      ],
      "source": [
        "thisset = {\"apple\", \"banana\", \"cherry\"}\n",
        "print(\"Initial set:\", thisset) # Sets are unordered, so order may differ\n",
        "set1 = {\"abc\", 34, True, 40, \"male\"}\n",
        "print(\"Mixed-type set:\", set1)\n",
        "thisset.add(\"orange\")\n",
        "print(\"After adding 'orange':\", thisset)\n",
        "thisset.update([\"grape\", \"mango\"])\n",
        "print(\"After adding multiple elements:\", thisset)\n",
        "thisset.remove(\"banana\")\n",
        "print(\"After removing 'banana':\", thisset)\n",
        "print(\"After attempting to discard 'papaya' (not present):\", thisset)\n",
        "removed_item = thisset.pop()\n",
        "print(\"Removed an arbitrary element:\", removed_item)\n",
        "print(\"Set after pop operation:\", thisset)\n",
        "print(\"Is 'apple' in the set?\", \"apple\" in thisset)\n",
        "union_set = thisset.union(set1)\n",
        "print(\"Union of thisset and set1:\", union_set)\n",
        "intersection_set = thisset.intersection(set1)\n",
        "print(\"Intersection of thisset and set1:\", intersection_set)\n",
        "difference_set = thisset.difference(set1)\n",
        "print(\"Difference (thisset - set1):\", difference_set)\n",
        "copy_set = thisset.copy()\n",
        "print(\"Copy of the set:\", copy_set)\n",
        "thisset.clear()\n",
        "print(\"Set after clearing all elements:\", thisset)"
      ]
    },
    {
      "cell_type": "markdown",
      "metadata": {
        "id": "8iS6c_Cf-f65"
      },
      "source": [
        "activity 7:Tuples\n",
        "\n"
      ]
    },
    {
      "cell_type": "code",
      "execution_count": null,
      "metadata": {
        "colab": {
          "base_uri": "https://localhost:8080/"
        },
        "id": "9KoB1W0_-k0A",
        "outputId": "4cc22fac-27ea-42ba-da18-32b544a5c2d9"
      },
      "outputs": [
        {
          "name": "stdout",
          "output_type": "stream",
          "text": [
            "banana\n"
          ]
        }
      ],
      "source": [
        "thistuple = (\"apple\", \"banana\", \"cherry\")\n",
        "print(thistuple[1])\n"
      ]
    },
    {
      "cell_type": "markdown",
      "metadata": {
        "id": "wFYR0GdG-oYZ"
      },
      "source": [
        "activity 8:Conditions and If Statements"
      ]
    },
    {
      "cell_type": "code",
      "execution_count": null,
      "metadata": {
        "colab": {
          "base_uri": "https://localhost:8080/"
        },
        "id": "v-aWXnDO-tK5",
        "outputId": "3b4a5387-9adb-4ae5-c739-edf74d1cd12c"
      },
      "outputs": [
        {
          "name": "stdout",
          "output_type": "stream",
          "text": [
            "b is greater than a\n"
          ]
        }
      ],
      "source": [
        "a, b = 33, 200\n",
        "if b > a:\n",
        " print(\"b is greater than a\")\n",
        "elif a == b:\n",
        " print(\"a and b are equal\")\n",
        "else:\n",
        " print(\"a is greater than b\")"
      ]
    },
    {
      "cell_type": "markdown",
      "metadata": {
        "id": "beTmFJhm-wG4"
      },
      "source": [
        "activity 9:  Loops"
      ]
    },
    {
      "cell_type": "code",
      "execution_count": null,
      "metadata": {
        "colab": {
          "base_uri": "https://localhost:8080/"
        },
        "id": "Ly1yYi_TARqW",
        "outputId": "63641b6c-8b6c-460c-e2bb-4d6e81719753"
      },
      "outputs": [
        {
          "name": "stdout",
          "output_type": "stream",
          "text": [
            "Number: 0\n",
            "Number: 1\n",
            "Number: 2\n",
            "Number: 3\n",
            "Number: 4\n",
            "From 2 to 6: 2\n",
            "From 2 to 6: 3\n",
            "From 2 to 6: 4\n",
            "From 2 to 6: 5\n",
            "From 2 to 6: 6\n",
            "Even number: 0\n",
            "Even number: 2\n",
            "Even number: 4\n",
            "Even number: 6\n",
            "Even number: 8\n",
            "Countdown: 5\n",
            "Countdown: 4\n",
            "Countdown: 3\n",
            "Countdown: 2\n",
            "Countdown: 1\n",
            "Index: 0 Fruit: apple\n",
            "Index: 1 Fruit: banana\n",
            "Index: 2 Fruit: cherry\n",
            "Odd number: 1\n",
            "Odd number: 3\n",
            "Odd number: 5\n",
            "Odd number: 7\n",
            "Odd number: 9\n"
          ]
        }
      ],
      "source": [
        "for i in range(5):\n",
        "    print(\"Number:\", i)\n",
        "for i in range(2, 7):\n",
        "    print(\"From 2 to 6:\", i)\n",
        "for i in range(0, 10, 2):\n",
        "    print(\"Even number:\", i)\n",
        "for i in range(5, 0, -1):\n",
        "    print(\"Countdown:\", i)\n",
        "fruits = [\"apple\", \"banana\", \"cherry\"]\n",
        "for index in range(len(fruits)):\n",
        "    print(\"Index:\", index, \"Fruit:\", fruits[index])\n",
        "for i in range(10):\n",
        "    if i % 2 != 0:\n",
        "        print(\"Odd number:\", i)"
      ]
    },
    {
      "cell_type": "markdown",
      "metadata": {
        "id": "120w3EK2BS8-"
      },
      "source": [
        "activity 10: Functions"
      ]
    },
    {
      "cell_type": "code",
      "execution_count": null,
      "metadata": {
        "colab": {
          "base_uri": "https://localhost:8080/"
        },
        "id": "QjsZxg8fCD7d",
        "outputId": "1acd562e-f6e7-4e4a-81e8-4667f5755e26"
      },
      "outputs": [
        {
          "name": "stdout",
          "output_type": "stream",
          "text": [
            "Full name: Emil Refsnes\n",
            "The youngest child is: Linus\n",
            "Hello, Guest\n",
            "Hello, Alice\n",
            "Pet details:\n",
            "Type: Dog\n",
            "Name: Buddy\n",
            "Age: 5\n",
            "Sum of numbers: 30\n"
          ]
        }
      ],
      "source": [
        "def my_function(fname, lname):\n",
        "    print(\"Full name:\", fname + \" \" + lname)\n",
        "my_function(\"Emil\", \"Refsnes\")\n",
        "def kids_function(*kids):\n",
        "    print(\"The youngest child is:\", kids[2])\n",
        "kids_function(\"Emil\", \"Tobias\", \"Linus\")\n",
        "def greet_user(name=\"Guest\"):\n",
        "    print(\"Hello,\", name)\n",
        "greet_user()\n",
        "greet_user(\"Alice\")\n",
        "def describe_pet(**pet_info):\n",
        "    print(\"Pet details:\")\n",
        "    for key, value in pet_info.items():\n",
        "        print(key.capitalize() + \":\", value)\n",
        "describe_pet(type=\"Dog\", name=\"Buddy\", age=5)\n",
        "def add_numbers(a, b):\n",
        "    return a + b\n",
        "result = add_numbers(10, 20)\n",
        "print(\"Sum of numbers:\", result)"
      ]
    },
    {
      "cell_type": "markdown",
      "metadata": {
        "id": "s2GoAIkhFewe"
      },
      "source": [
        "exercise 01:\n",
        "1. Write a program to check if a number is prime."
      ]
    },
    {
      "cell_type": "code",
      "execution_count": null,
      "metadata": {
        "colab": {
          "base_uri": "https://localhost:8080/"
        },
        "id": "pUx0KUYhFhtv",
        "outputId": "d4a17834-e0c7-4ed6-e180-38269e34c5d4"
      },
      "outputs": [
        {
          "name": "stdout",
          "output_type": "stream",
          "text": [
            "Enter a positive integer: 1\n",
            "1 is not a prime number.\n"
          ]
        }
      ],
      "source": [
        "import math\n",
        "def is_prime(n):\n",
        "    if n <= 1:\n",
        "        return False\n",
        "    for i in range(2, int(math.sqrt(n)) + 1):\n",
        "        if n % i == 0:\n",
        "            return False\n",
        "    return True\n",
        "num = int(input(\"Enter a positive integer: \"))\n",
        "if is_prime(num):\n",
        "    print(f\"{num} is a prime number.\")\n",
        "else:\n",
        "    print(f\"{num} is not a prime number.\")"
      ]
    },
    {
      "cell_type": "markdown",
      "metadata": {
        "id": "HNJTWrPKFtdP"
      },
      "source": [
        "exercise 2:Create a list of 10 numbers and print their average.\n"
      ]
    },
    {
      "cell_type": "code",
      "execution_count": null,
      "metadata": {
        "colab": {
          "base_uri": "https://localhost:8080/"
        },
        "id": "-mTAJ-1LF0IG",
        "outputId": "029294c2-56b9-4aad-f5af-4f34f7416ef9"
      },
      "outputs": [
        {
          "name": "stdout",
          "output_type": "stream",
          "text": [
            "The average of the numbers is: 10.7\n"
          ]
        }
      ],
      "source": [
        "\n",
        "numbers = [12, 7, 9, 15, 20, 5, 8, 11, 14, 6]\n",
        "average = sum(numbers) / len(numbers)\n",
        "print(f\"The average of the numbers is: {average}\")"
      ]
    },
    {
      "cell_type": "markdown",
      "metadata": {
        "id": "56ESTgKVF7re"
      },
      "source": [
        "exercise 3:Store student names and marks in a dictionary and display the topper"
      ]
    },
    {
      "cell_type": "code",
      "execution_count": null,
      "metadata": {
        "colab": {
          "base_uri": "https://localhost:8080/"
        },
        "id": "zGGAYMOvGAIW",
        "outputId": "8681e1d9-aca0-441c-c377-140c669542ab"
      },
      "outputs": [
        {
          "name": "stdout",
          "output_type": "stream",
          "text": [
            "The topper is David with 95 marks.\n"
          ]
        }
      ],
      "source": [
        "students = {\n",
        "    \"Alice\": 85,\n",
        "    \"Bob\": 92,\n",
        "    \"Charlie\": 78,\n",
        "    \"David\": 95,\n",
        "    \"Eva\": 88\n",
        "}\n",
        "topper = max(students, key=students.get)\n",
        "top_score = students[topper]\n",
        "print(f\"The topper is {topper} with {top_score} marks.\")"
      ]
    },
    {
      "cell_type": "markdown",
      "metadata": {
        "id": "DP-HKHmMGFov"
      },
      "source": [
        "exercise 4: Demonstrate set operations: union, intersection, difference."
      ]
    },
    {
      "cell_type": "code",
      "execution_count": null,
      "metadata": {
        "colab": {
          "base_uri": "https://localhost:8080/"
        },
        "id": "6rhjFOjEGO8X",
        "outputId": "dccc54c0-2a57-42a2-8ef8-0ee39db12f1e"
      },
      "outputs": [
        {
          "name": "stdout",
          "output_type": "stream",
          "text": [
            "Union of setA and setB: {1, 2, 3, 4, 5, 6, 7, 8}\n",
            "Intersection of setA and setB: {4, 5}\n",
            "Difference of setA and setB (setA - setB): {1, 2, 3}\n"
          ]
        }
      ],
      "source": [
        "setA = {1, 2, 3, 4, 5}\n",
        "setB = {4, 5, 6, 7, 8}\n",
        "union_set = setA.union(setB)\n",
        "print(f\"Union of setA and setB: {union_set}\")\n",
        "intersection_set = setA.intersection(setB)\n",
        "print(f\"Intersection of setA and setB: {intersection_set}\")\n",
        "difference_set = setA.difference(setB)\n",
        "print(f\"Difference of setA and setB (setA - setB): {difference_set}\")"
      ]
    },
    {
      "cell_type": "markdown",
      "metadata": {
        "id": "PtBq-O1wGV9e"
      },
      "source": [
        "exercise 5: Write a function to compute factorial using recursion."
      ]
    },
    {
      "cell_type": "code",
      "execution_count": null,
      "metadata": {
        "colab": {
          "base_uri": "https://localhost:8080/"
        },
        "id": "fwkkJJ4HGZoO",
        "outputId": "0c0a2a2e-6335-4bb7-e9ae-4cd219c11de0"
      },
      "outputs": [
        {
          "name": "stdout",
          "output_type": "stream",
          "text": [
            "1\n",
            "120\n",
            "3628800\n"
          ]
        }
      ],
      "source": [
        "def factorial(n: int) -> int:\n",
        "    \"\"\"\n",
        "    Compute n! (factorial of n) using recursion.\n",
        "\n",
        "    Args:\n",
        "        n (int): A non-negative integer.\n",
        "\n",
        "    Returns:\n",
        "        int: n!\n",
        "\n",
        "    Raises:\n",
        "        ValueError: If n is negative.\n",
        "        TypeError: If n is not an integer.\n",
        "    \"\"\"\n",
        "    if not isinstance(n, int):\n",
        "        raise TypeError(\"n must be an integer\")\n",
        "    if n < 0:\n",
        "        raise ValueError(\"n must be a non-negative integer\")\n",
        "    if n == 0 or n == 1:\n",
        "        return 1\n",
        "    return n * factorial(n - 1)\n",
        "if __name__ == \"__main__\":\n",
        "    print(factorial(0))   # 1\n",
        "    print(factorial(5))   # 120\n",
        "    print(factorial(10))  # 3628800"
      ]
    },
    {
      "cell_type": "markdown",
      "metadata": {
        "id": "IJeruJ0RLY8N"
      },
      "source": [
        "exercise 6:\n",
        "Use a for loop to print the Fibonacci series up to n terms"
      ]
    },
    {
      "cell_type": "code",
      "execution_count": null,
      "metadata": {
        "colab": {
          "base_uri": "https://localhost:8080/"
        },
        "id": "uYR8htWALeOs",
        "outputId": "c1d2a9fe-0586-47b8-f0dd-9df9216d64be"
      },
      "outputs": [
        {
          "name": "stdout",
          "output_type": "stream",
          "text": [
            "\n",
            "0\n",
            "0 1 1 2 3\n",
            "0 1 1 2 3 5 8 13 21 34\n"
          ]
        }
      ],
      "source": [
        "def print_fibonacci(n: int) -> None:\n",
        "    \"\"\"\n",
        "    Print the Fibonacci series up to n terms using a for loop.\n",
        "\n",
        "    Args:\n",
        "        n (int): Number of terms to print (must be >= 0).\n",
        "\n",
        "    Raises:\n",
        "        TypeError: If n is not an integer.\n",
        "        ValueError: If n is negative.\n",
        "    \"\"\"\n",
        "    if not isinstance(n, int):\n",
        "        raise TypeError(\"n must be an integer\")\n",
        "    if n < 0:\n",
        "        raise ValueError(\"n must be non-negative\")\n",
        "\n",
        "    a, b = 0, 1\n",
        "    for i in range(n):\n",
        "        print(a, end='' if i == n-1 else ' ')\n",
        "        a, b = b, a + b\n",
        "    print()\n",
        "if __name__ == \"__main__\":\n",
        "    print_fibonacci(0)   # (prints nothing)\n",
        "    print_fibonacci(1)   # 0\n",
        "    print_fibonacci(5)   # 0 1 1 2 3\n",
        "    print_fibonacci(10)  # 0 1 1 2 3 5 8 13 21 34"
      ]
    },
    {
      "cell_type": "markdown",
      "metadata": {
        "id": "SAlSAtkzLkzs"
      },
      "source": [
        "exercise 7:Read a string and count the number of vowels"
      ]
    },
    {
      "cell_type": "code",
      "execution_count": null,
      "metadata": {
        "colab": {
          "base_uri": "https://localhost:8080/"
        },
        "id": "otOImuMHLpuk",
        "outputId": "cef85ea1-ca8a-405c-e557-0b4baf806c1b"
      },
      "outputs": [
        {
          "name": "stdout",
          "output_type": "stream",
          "text": [
            "Vowel Counter Program\n",
            "--------------------\n",
            "Enter a string: maryam\n",
            "\n",
            "String: 'maryam'\n",
            "Number of vowels: 2\n",
            "Vowels found: a, a\n"
          ]
        }
      ],
      "source": [
        "def count_vowels(text):\n",
        "    \"\"\"\n",
        "    Count the number of vowels in a given string.\n",
        "\n",
        "    Args:\n",
        "        text (str): The input string to analyze\n",
        "\n",
        "    Returns:\n",
        "        int: The number of vowels found\n",
        "    \"\"\"\n",
        "\n",
        "    vowels = \"aeiouAEIOU\"\n",
        "\n",
        "    vowel_count = 0\n",
        "    for char in text:\n",
        "        if char in vowels:\n",
        "            vowel_count += 1\n",
        "\n",
        "    return vowel_count\n",
        "\n",
        "def main():\n",
        "    \"\"\"Main function to get user input and display results.\"\"\"\n",
        "    print(\"Vowel Counter Program\")\n",
        "    print(\"-\" * 20)\n",
        "\n",
        "    user_input = input(\"Enter a string: \")\n",
        "\n",
        "    vowel_count = count_vowels(user_input)\n",
        "\n",
        "    print(f\"\\nString: '{user_input}'\")\n",
        "    print(f\"Number of vowels: {vowel_count}\")\n",
        "    vowels_found = []\n",
        "    for char in user_input:\n",
        "        if char in \"aeiouAEIOU\":\n",
        "            vowels_found.append(char)\n",
        "\n",
        "    if vowels_found:\n",
        "        print(f\"Vowels found: {', '.join(vowels_found)}\")\n",
        "    else:\n",
        "        print(\"No vowels found in the string.\")\n",
        "\n",
        "if __name__ == \"__main__\":\n",
        "    main()"
      ]
    },
    {
      "cell_type": "markdown",
      "metadata": {
        "id": "VMlqz89pMTPi"
      },
      "source": [
        "exercise 8: Create a tuple of numbers and find the maximum and minimum."
      ]
    },
    {
      "cell_type": "code",
      "execution_count": null,
      "metadata": {
        "colab": {
          "base_uri": "https://localhost:8080/"
        },
        "id": "JivHj8cfMYmL",
        "outputId": "94cce0e7-e6ae-4536-c93d-f07e31463dae"
      },
      "outputs": [
        {
          "name": "stdout",
          "output_type": "stream",
          "text": [
            "Tuple Min/Max Finder\n",
            "--------------------\n",
            "Original tuple: (45, 12, 78, 23, 56, 89, 34, 67, 91, 15)\n",
            "Minimum value: 12\n",
            "Maximum value: 91\n",
            "Range: 79\n",
            "\n",
            "========================================\n",
            "Create your own tuple:\n",
            "Enter numbers separated by commas: 2,3\n",
            "Your tuple: (2.0, 3.0)\n",
            "Minimum value: 2.0\n",
            "Maximum value: 3.0\n",
            "Range: 1.0\n",
            "\n",
            "========================================\n",
            "Additional Examples:\n",
            "\n",
            "Example 1: (1, 2, 3, 4, 5)\n",
            "  Min: 1, Max: 5\n",
            "\n",
            "Example 2: (-10, -5, 0, 5, 10)\n",
            "  Min: -10, Max: 10\n",
            "\n",
            "Example 3: (3.14, 2.71, 1.41, 0.57)\n",
            "  Min: 0.57, Max: 3.14\n",
            "\n",
            "Example 4: (100,)\n",
            "  Min: 100, Max: 100\n",
            "\n",
            "Example 5: ()\n",
            "  Empty tuple - no min/max values\n"
          ]
        }
      ],
      "source": [
        "def find_min_max_tuple(numbers_tuple):\n",
        "    \"\"\"\n",
        "    Find the minimum and maximum values in a tuple of numbers.\n",
        "\n",
        "    Args:\n",
        "        numbers_tuple (tuple): A tuple containing numbers\n",
        "\n",
        "    Returns:\n",
        "        tuple: A tuple containing (minimum, maximum) values\n",
        "    \"\"\"\n",
        "    if not numbers_tuple:\n",
        "        return None, None\n",
        "\n",
        "    minimum = min(numbers_tuple)\n",
        "    maximum = max(numbers_tuple)\n",
        "\n",
        "    return minimum, maximum\n",
        "\n",
        "def main():\n",
        "    \"\"\"Main function to demonstrate tuple min/max operations.\"\"\"\n",
        "    print(\"Tuple Min/Max Finder\")\n",
        "    print(\"-\" * 20)\n",
        "\n",
        "    numbers = (45, 12, 78, 23, 56, 89, 34, 67, 91, 15)\n",
        "    print(f\"Original tuple: {numbers}\")\n",
        "\n",
        "    min_val, max_val = find_min_max_tuple(numbers)\n",
        "\n",
        "    print(f\"Minimum value: {min_val}\")\n",
        "    print(f\"Maximum value: {max_val}\")\n",
        "    print(f\"Range: {max_val - min_val}\")\n",
        "\n",
        "    print(\"\\n\" + \"=\"*40)\n",
        "    print(\"Create your own tuple:\")\n",
        "\n",
        "    try:\n",
        "        user_input = input(\"Enter numbers separated by commas: \")\n",
        "        user_numbers = tuple(map(float, user_input.split(',')))\n",
        "\n",
        "        print(f\"Your tuple: {user_numbers}\")\n",
        "\n",
        "        min_val, max_val = find_min_max_tuple(user_numbers)\n",
        "        print(f\"Minimum value: {min_val}\")\n",
        "        print(f\"Maximum value: {max_val}\")\n",
        "        print(f\"Range: {max_val - min_val}\")\n",
        "\n",
        "    except ValueError:\n",
        "        print(\"Invalid input! Please enter numbers separated by commas.\")\n",
        "    print(\"\\n\" + \"=\"*40)\n",
        "    print(\"Additional Examples:\")\n",
        "\n",
        "    examples = [\n",
        "        (1, 2, 3, 4, 5),\n",
        "        (-10, -5, 0, 5, 10),\n",
        "        (3.14, 2.71, 1.41, 0.57),\n",
        "        (100,),  # Single element tuple\n",
        "        ()  # Empty tuple\n",
        "    ]\n",
        "\n",
        "    for i, example_tuple in enumerate(examples, 1):\n",
        "        print(f\"\\nExample {i}: {example_tuple}\")\n",
        "        min_val, max_val = find_min_max_tuple(example_tuple)\n",
        "\n",
        "        if min_val is not None and max_val is not None:\n",
        "            print(f\"  Min: {min_val}, Max: {max_val}\")\n",
        "        else:\n",
        "            print(\"  Empty tuple - no min/max values\")\n",
        "\n",
        "if __name__ == \"__main__\":\n",
        "    main()"
      ]
    },
    {
      "cell_type": "markdown",
      "metadata": {
        "id": "mLCxHB16MnmL"
      },
      "source": [
        "exercise 9:Create a program that asks for user input and reverses the string"
      ]
    },
    {
      "cell_type": "code",
      "execution_count": null,
      "metadata": {
        "colab": {
          "background_save": true,
          "base_uri": "https://localhost:8080/"
        },
        "id": "CRkv0YxGMsr7",
        "outputId": "6d31e02f-e132-4a8c-896c-c83b43441798"
      },
      "outputs": [
        {
          "name": "stdout",
          "output_type": "stream",
          "text": [
            "\n",
            "Demo Examples:\n",
            "---------------\n",
            "'Hello World' -> 'dlroW olleH'\n",
            "'Python Programming' -> 'gnimmargorP nohtyP'\n",
            "'12345' -> '54321'\n",
            "'A man a plan a canal Panama' -> 'amanaP lanac a nalp a nam A'\n",
            "  (This is a palindrome!)\n",
            "'racecar' -> 'racecar'\n",
            "  (This is a palindrome!)\n",
            "'Was it a car or a cat I saw' -> 'was I tac a ro rac a ti saW'\n",
            "  (This is a palindrome!)\n",
            "'!@#$%^&*()' -> ')(*&^%$#@!'\n",
            "'   spaces   ' -> '   secaps   '\n",
            "String Reverser Program\n",
            "-------------------------\n",
            "Original string: 'artifical'\n",
            "Reversed string: 'lacifitra'\n",
            "Length: 9 characters\n",
            "Character breakdown:\n",
            "  Position 0: 'a' -> Position 8\n",
            "  Position 1: 'r' -> Position 7\n",
            "  Position 2: 't' -> Position 6\n",
            "  Position 3: 'i' -> Position 5\n",
            "  Position 4: 'f' -> Position 4\n",
            "  Position 5: 'i' -> Position 3\n",
            "  Position 6: 'c' -> Position 2\n",
            "  Position 7: 'a' -> Position 1\n",
            "  Position 8: 'l' -> Position 0\n",
            "Manual method result: 'lacifitra'\n",
            "Methods match: True\n"
          ]
        }
      ],
      "source": [
        "def reverse_string(text):\n",
        "    \"\"\"\n",
        "    Reverse a given string.\n",
        "\n",
        "    Args:\n",
        "        text (str): The input string to reverse\n",
        "\n",
        "    Returns:\n",
        "        str: The reversed string\n",
        "    \"\"\"\n",
        "    return text[::-1]\n",
        "\n",
        "def reverse_string_manual(text):\n",
        "    \"\"\"\n",
        "    Reverse a string using manual iteration (alternative method).\n",
        "\n",
        "    Args:\n",
        "        text (str): The input string to reverse\n",
        "\n",
        "    Returns:\n",
        "        str: The reversed string\n",
        "    \"\"\"\n",
        "    reversed_text = \"\"\n",
        "    for char in text:\n",
        "        reversed_text = char + reversed_text\n",
        "    return reversed_text\n",
        "\n",
        "def main():\n",
        "    \"\"\"Main function to get user input and reverse strings.\"\"\"\n",
        "    print(\"String Reverser Program\")\n",
        "    print(\"-\" * 25)\n",
        "\n",
        "    while True:\n",
        "\n",
        "        user_input = input(\"\\nEnter a string to reverse (or 'quit' to exit): \")\n",
        "\n",
        "        if user_input.lower() == 'quit':\n",
        "            print(\"Thank you for using the String Reverser!\")\n",
        "            break\n",
        "\n",
        "        reversed_text = reverse_string(user_input)\n",
        "\n",
        "        print(f\"Original string: '{user_input}'\")\n",
        "        print(f\"Reversed string: '{reversed_text}'\")\n",
        "        print(f\"Length: {len(user_input)} characters\")\n",
        "\n",
        "        if len(user_input) <= 20:\n",
        "            print(\"Character breakdown:\")\n",
        "            for i, char in enumerate(user_input):\n",
        "                reverse_pos = len(user_input) - 1 - i\n",
        "                print(f\"  Position {i}: '{char}' -> Position {reverse_pos}\")\n",
        "        manual_reversed = reverse_string_manual(user_input)\n",
        "        print(f\"Manual method result: '{manual_reversed}'\")\n",
        "        print(f\"Methods match: {reversed_text == manual_reversed}\")\n",
        "\n",
        "def demo_examples():\n",
        "    \"\"\"Demonstrate string reversal with various examples.\"\"\"\n",
        "    print(\"\\nDemo Examples:\")\n",
        "    print(\"-\" * 15)\n",
        "\n",
        "    examples = [\n",
        "        \"Hello World\",\n",
        "        \"Python Programming\",\n",
        "        \"12345\",\n",
        "        \"A man a plan a canal Panama\",\n",
        "        \"racecar\",\n",
        "        \"Was it a car or a cat I saw\",\n",
        "        \"!@#$%^&*()\",\n",
        "        \"   spaces   \"\n",
        "    ]\n",
        "\n",
        "    for example in examples:\n",
        "        reversed_text = reverse_string(example)\n",
        "        is_palindrome = example.lower().replace(\" \", \"\") == reversed_text.lower().replace(\" \", \"\")\n",
        "\n",
        "        print(f\"'{example}' -> '{reversed_text}'\")\n",
        "        if is_palindrome:\n",
        "            print(\"  (This is a palindrome!)\")\n",
        "\n",
        "if __name__ == \"__main__\":\n",
        "    demo_examples()\n",
        "    main()"
      ]
    }
  ],
  "metadata": {
    "colab": {
      "provenance": []
    },
    "kernelspec": {
      "display_name": "Python 3",
      "name": "python3"
    },
    "language_info": {
      "name": "python"
    }
  },
  "nbformat": 4,
  "nbformat_minor": 0
}